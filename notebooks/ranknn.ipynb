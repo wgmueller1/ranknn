{
 "cells": [
  {
   "cell_type": "code",
   "execution_count": 32,
   "metadata": {
    "collapsed": false
   },
   "outputs": [
    {
     "name": "stdout",
     "output_type": "stream",
     "text": [
      "[0 0 1 ..., 0 1 0]\n"
     ]
    }
   ],
   "source": [
    "import pandas as pd\n",
    "import random\n",
    "data=pd.read_csv('../data/regular_season_results.csv')\n",
    "season=data.groupby(['season'])\n",
    "#print(season.get_group('A').head())\n",
    "data=season.get_group('A')\n",
    "tourney=pd.read_csv('../data/tourney_results.csv')\n",
    "#print(tourney.head())\n",
    "#print(np.array(data['lteam']).shape)\n",
    "#print(np.array(tourney['lteam']).shape)\n",
    "input1=zip(data['wteam'],data['lteam'])\n",
    "def data_formatter(game):\n",
    "    tmp=[0,1]\n",
    "    random.shuffle(tmp)\n",
    "    if tmp.index(0)==1:\n",
    "        return (game[tmp[0]],game[tmp[1]],0)\n",
    "    else:\n",
    "        return (game[tmp[0]],game[tmp[1]],1)\n",
    "    \n",
    "inputs=map(lambda x: data_formatter(x),input1)\n",
    "team1=np.array(map(lambda x: x[0],inputs))\n",
    "team2=np.array(map(lambda x: x[1],inputs))\n",
    "results=np.array(map(lambda x: x[2],inputs))\n",
    "print(results)"
   ]
  },
  {
   "cell_type": "code",
   "execution_count": 51,
   "metadata": {
    "collapsed": false
   },
   "outputs": [
    {
     "name": "stdout",
     "output_type": "stream",
     "text": [
      "(None, None)\n",
      "(None, None)\n",
      "Epoch 1/10\n",
      "4123/4123 [==============================] - 0s - loss: 0.6838 - acc: 0.6299     \n",
      "Epoch 2/10\n",
      "4123/4123 [==============================] - 0s - loss: 0.6031 - acc: 0.7120     \n",
      "Epoch 3/10\n",
      "4123/4123 [==============================] - 0s - loss: 0.5352 - acc: 0.7256     \n",
      "Epoch 4/10\n",
      "4123/4123 [==============================] - 0s - loss: 0.5207 - acc: 0.7342     \n",
      "Epoch 5/10\n",
      "4123/4123 [==============================] - 0s - loss: 0.5144 - acc: 0.7388     \n",
      "Epoch 6/10\n",
      "4123/4123 [==============================] - 0s - loss: 0.5102 - acc: 0.7451     \n",
      "Epoch 7/10\n",
      "4123/4123 [==============================] - 0s - loss: 0.5065 - acc: 0.7441     \n",
      "Epoch 8/10\n",
      "4123/4123 [==============================] - 0s - loss: 0.5037 - acc: 0.7472     \n",
      "Epoch 9/10\n",
      "4123/4123 [==============================] - 0s - loss: 0.5016 - acc: 0.7469     \n",
      "Epoch 10/10\n",
      "4123/4123 [==============================] - 0s - loss: 0.4995 - acc: 0.7471     \n"
     ]
    },
    {
     "data": {
      "text/plain": [
       "[0.50490326, 0.76089698]"
      ]
     },
     "execution_count": 51,
     "metadata": {},
     "output_type": "execute_result"
    }
   ],
   "source": [
    "import pandas as pd\n",
    "import keras\n",
    "from keras.layers.embeddings import Embedding\n",
    "from keras.layers.recurrent import LSTM, GRU\n",
    "from keras.preprocessing import sequence\n",
    "from keras.optimizers import SGD, RMSprop, Adagrad\n",
    "from keras.utils import np_utils\n",
    "from keras.models import Sequential\n",
    "from keras.layers.core import Dense, Dropout, Activation\n",
    "from keras.layers.embeddings import Embedding\n",
    "from keras.layers.recurrent import LSTM, GRU\n",
    "from keras.layers import Input, Dense, Flatten\n",
    "from keras.models import Model\n",
    "from keras.preprocessing.text import one_hot\n",
    "from keras.layers import merge,Reshape, Flatten\n",
    "from keras import backend as K\n",
    "from sklearn.preprocessing import LabelEncoder\n",
    "from sklearn.metrics import classification_report,confusion_matrix\n",
    "import numpy as np\n",
    "\n",
    "#data=pd.read_csv('../data/regular_season_results.csv')\n",
    "data['wloc']=data['wloc'].map({'H':1,'A':0})\n",
    "teams = pd.read_csv('../data/teams.csv')\n",
    "nteams=len(teams['id'])\n",
    "win=pd.get_dummies(data['wteam'])\n",
    "lose=pd.get_dummies(data['lteam'])\n",
    "input_data=np.array(win + lose)\n",
    "\n",
    "input_1 = Input(batch_shape=(None,1),dtype='float32',name='w_team')\n",
    "input_2 = Input(batch_shape=(None,1),dtype='float32',name='l_team')\n",
    "\n",
    "#shared embedding layer\n",
    "emb = Embedding(output_dim=64,input_dim=857,input_length=1)\n",
    "\n",
    "emb1 = emb(input_1)\n",
    "emb2 = emb(input_2)\n",
    "emba = Reshape((64,))(emb1)\n",
    "embb = Reshape((64,))(emb2)\n",
    "\n",
    "game = merge([emb1,emb2],mode='concat',concat_axis=1)\n",
    "flatten = Reshape((128,))(game)\n",
    "game = Dense(64, activation='relu')(flatten)\n",
    "#needs to be a custom layer??\n",
    "perf1 = merge([emba,game], mode = 'dot',dot_axes=(1,1))\n",
    "perf2 = merge([embb,game], mode = 'dot',dot_axes=(1,1))\n",
    "perf = merge([perf1,perf2],mode= lambda x: x[0]-x[1],output_shape=(1,))\n",
    "print(K.int_shape(perf))\n",
    "pred=Activation('sigmoid')(perf)\n",
    "print(K.int_shape(pred))\n",
    "\n",
    "#flatten = Reshape((128,))(game)\n",
    "#game = Dense(64, activation='relu')(flatten)\n",
    "#pred = Dense(1,activation='sigmoid')(game)\n",
    "model=Model(input=(input_1,input_2),output=pred)\n",
    "model.compile(optimizer='rmsprop',loss='binary_crossentropy',metrics=['accuracy'])\n",
    "model.fit([team1,team2],results,batch_size=32)\n",
    "tourney=tourney.groupby(['season']).get_group('A')\n",
    "model.test_on_batch([np.array(tourney['wteam']),np.array(tourney['lteam'])],np.ones(len(tourney['wteam'])))\n",
    "#print(classification_report(np.ones(len(preds)),np.rint(preds)))\n",
    "#print(confusion_matrix(np.ones(len(preds)),np.rint(preds)))\n",
    "#percentage correct\n",
    "#print(np.sum(preds)/63.0)"
   ]
  },
  {
   "cell_type": "code",
   "execution_count": 53,
   "metadata": {
    "collapsed": false
   },
   "outputs": [
    {
     "name": "stdout",
     "output_type": "stream",
     "text": [
      "Epoch 1/10\n",
      "91224/91224 [==============================] - 4s - loss: 0.2620 - acc: 0.9868     \n",
      "Epoch 2/10\n",
      "91224/91224 [==============================] - 4s - loss: 0.0178 - acc: 1.0000     \n",
      "Epoch 3/10\n",
      "91224/91224 [==============================] - 4s - loss: 0.0011 - acc: 1.0000     \n",
      "Epoch 4/10\n",
      "91224/91224 [==============================] - 5s - loss: 6.2915e-05 - acc: 1.0000     \n",
      "Epoch 5/10\n",
      "91224/91224 [==============================] - 5s - loss: 3.7673e-06 - acc: 1.0000     \n",
      "Epoch 6/10\n",
      "91224/91224 [==============================] - 5s - loss: 2.5382e-07 - acc: 1.0000     \n",
      "Epoch 7/10\n",
      "91224/91224 [==============================] - 5s - loss: 1.1923e-07 - acc: 1.0000     \n",
      "Epoch 8/10\n",
      "91224/91224 [==============================] - 5s - loss: 1.1921e-07 - acc: 1.0000     \n",
      "Epoch 9/10\n",
      "91224/91224 [==============================] - 5s - loss: 1.1921e-07 - acc: 1.0000     \n",
      "Epoch 10/10\n",
      "91224/91224 [==============================] - 5s - loss: 1.1921e-07 - acc: 1.0000     \n"
     ]
    },
    {
     "data": {
      "text/plain": [
       "<keras.callbacks.History at 0x126db7890>"
      ]
     },
     "execution_count": 53,
     "metadata": {},
     "output_type": "execute_result"
    }
   ],
   "source": [
    "from keras.layers.core import Flatten\n",
    "data=pd.read_csv('../data/regular_season_results.csv')\n",
    "data['wloc']=data['wloc'].map({'H':1,'A':0})\n",
    "teams = pd.read_csv('../data/teams.csv')\n",
    "nteams=len(teams['id'])\n",
    "win=pd.get_dummies(data['wteam'])\n",
    "lose=-1.0*pd.get_dummies(data['lteam'])\n",
    "input_data=np.array(win + lose)\n",
    "\n",
    "#Implementation of Terry-Bradley ANN\n",
    "\n",
    "model=Sequential()\n",
    "model.add(Dense(1,input_dim=nteams))\n",
    "model.add(Activation('sigmoid'))\n",
    "model.compile(optimizer='rmsprop',loss='binary_crossentropy',metrics=['accuracy'])\n",
    "model.fit(input_data,[1 for i in range(0,len(input_data))])\n",
    "\n",
    "#model.predict()"
   ]
  },
  {
   "cell_type": "code",
   "execution_count": 57,
   "metadata": {
    "collapsed": false
   },
   "outputs": [
    {
     "name": "stdout",
     "output_type": "stream",
     "text": [
      "(356,)\n",
      "(63, 32)\n"
     ]
    }
   ],
   "source": [
    "print(input_data[0].shape)\n",
    "print(pd.get_dummies(tourney['wteam']).shape)"
   ]
  },
  {
   "cell_type": "code",
   "execution_count": 3,
   "metadata": {
    "collapsed": false
   },
   "outputs": [
    {
     "name": "stdout",
     "output_type": "stream",
     "text": [
      "(356, 1)\n",
      "[('Duke', 1.5817878), ('Kansas', 1.5185366), ('Kentucky', 1.2558224), ('North Carolina', 1.1737632), ('Syracuse', 1.1448064), ('Connecticut', 1.1141794), ('Arizona', 1.0802886), ('Michigan St', 1.0385598), ('Florida', 1.0196065), ('Gonzaga', 1.0105392), ('Texas', 0.9768309), ('Louisville', 0.97504449), ('Cincinnati', 0.97021908), ('Memphis', 0.95779139), ('Wisconsin', 0.9278518), ('Illinois', 0.90887874), ('Pittsburgh', 0.90706897), ('Maryland', 0.90286481), ('Oklahoma', 0.8937549), ('UCLA', 0.8909415), ('Ohio St', 0.88501954), ('Oklahoma St', 0.87141299), ('Stanford', 0.86533934), ('Villanova', 0.86345059), ('Georgetown', 0.84876126), ('Xavier', 0.83903414), ('Marquette', 0.81679571), ('Tennessee', 0.81606609), ('Missouri', 0.76348424), ('New Mexico', 0.73766464), ('Notre Dame', 0.71736729), ('Wake Forest', 0.71504498), ('Indiana', 0.71109766), ('Purdue', 0.70197904), ('Creighton', 0.69647616), ('California', 0.66604292), ('NC State', 0.66436505), ('UNLV', 0.66119802), ('Butler', 0.66021734), ('Vanderbilt', 0.64928055), ('Utah St', 0.64251542), ('Miami FL', 0.63916105), ('Temple', 0.62977242), ('West Virginia', 0.6292665), ('Iowa St', 0.61423916), ('Kansas St', 0.61398774), ('Utah', 0.60910875), ('Virginia', 0.60853839), ('Michigan', 0.60652745), ('Alabama', 0.60460621), ('Washington', 0.59609157), ('Mississippi', 0.59304875), ('BYU', 0.58876723), ('Boston College', 0.58575732), ('Mississippi St', 0.57068545), ('Florida St', 0.56924957), ('Arkansas', 0.56732327), ('Oregon', 0.56673712), ('Dayton', 0.56194967), ('Iowa', 0.55678564), ('Minnesota', 0.55234647), ('Clemson', 0.5514648), ('Georgia', 0.50752282), ('VA Commonwealth', 0.49054351), (\"St Joseph's PA\", 0.48017785), (\"St John's\", 0.4732264), ('Providence', 0.46815792), ('UAB', 0.4606179), ('Georgia Tech', 0.45740157), ('Col Charleston', 0.44938433), ('Charlotte', 0.44851756), ('Texas Tech', 0.44587189), ('Murray St', 0.43913016), ('Tulsa', 0.43771097), ('San Diego St', 0.43433332), ('LSU', 0.43144122), ('St Louis', 0.43089613), ('Colorado', 0.42189479), ('Nebraska', 0.4211126), ('South Carolina', 0.41493782), ('Seton Hall', 0.40541464), ('Kent', 0.39969325), ('USC', 0.39369118), ('Massachusetts', 0.38399059), ('Davidson', 0.38000417), ('Wichita St', 0.3738305), ('Baylor', 0.37186694), ('G Washington', 0.3535248), ('Auburn', 0.34484762), ('Missouri St', 0.33816358), ('Texas A&M', 0.33722997), ('New Mexico St', 0.32622445), ('Arizona St', 0.32350025), ('Nevada', 0.32293522), ('Virginia Tech', 0.31862485), ('S Illinois', 0.31624442), ('Richmond', 0.30743712), (\"St Mary's CA\", 0.27422136), ('UTEP', 0.27332246), ('W Kentucky', 0.27059814), ('Southern Miss', 0.26820296), ('George Mason', 0.26357141), ('Colorado St', 0.25604847), ('Old Dominion', 0.25592723), ('Illinois St', 0.24981056), ('Wyoming', 0.24464922), ('Northern Iowa', 0.24170701), ('Ohio', 0.24122788), ('Akron', 0.23287761), ('Princeton', 0.23119077), ('Fresno St', 0.23113686), ('Drexel', 0.22066943), ('Valparaiso', 0.21998587), ('Miami OH', 0.20262355), ('Penn St', 0.1965757), ('Rutgers', 0.18872359), ('Hawaii', 0.18678816), ('Rhode Island', 0.18442933), ('Pacific', 0.17993112), ('Oral Roberts', 0.17944445), ('Boise St', 0.17403676), ('Vermont', 0.17285819), ('Birmingham So', 0.17285065), ('Weber St', 0.16522455), ('N Dakota St', 0.1497931), ('Belmont', 0.14361176), ('Washington St', 0.13510306), ('Iona', 0.13307372), ('Northwestern', 0.13087538), ('Bradley', 0.12996934), ('WI Green Bay', 0.12647735), ('South Florida', 0.11329474), ('W Michigan', 0.11062437), ('Detroit', 0.10950901), ('TCU', 0.10173951), ('DePaul', 0.092740938), ('Penn', 0.090992421), ('Houston', 0.083848655), ('Boston Univ', 0.083090492), ('Indiana St', 0.082501456), ('Louisiana Tech', 0.080224618), ('South Alabama', 0.078730047), ('Middle Tenn St', 0.069378853), ('Santa Clara', 0.053589985), ('Hofstra', 0.04835166), ('Marshall', 0.040643293), ('UNC Wilmington', 0.04052737), ('Montana', 0.033322372), ('Siena', 0.023442525), ('ULL', 0.021250209), ('Wright St', 0.018373625), ('WI Milwaukee', 0.011166131), ('SMU', 0.010127223), ('UCF', 0.0093074925), ('Bucknell', 0.0045321044), ('Evansville', 0.0026880936), ('San Francisco', -0.00062595232), ('St Bonaventure', -0.0022413144), ('Rider', -0.0028541819), ('Bowling Green', -0.0045551136), ('Delaware', -0.0071411924), ('Toledo', -0.007247353), ('La Salle', -0.012831021), ('Santa Barbara', -0.012968013), ('Oregon St', -0.014539446), ('Niagara', -0.016586266), ('Ark Little Rock', -0.016690519), ('San Diego', -0.018502958), ('Tulane', -0.030222088), ('Incarnate Word', -0.037179567), ('Ball St', -0.040370766), ('Austin Peay', -0.045002837), ('Oakland', -0.047022175), ('Harvard', -0.051352117), ('Long Beach St', -0.054333806), ('Drake', -0.055207752), ('Fairfield', -0.060939413), ('Manhattan', -0.063400649), ('Sam Houston St', -0.090551659), ('Air Force', -0.097043686), ('Cleveland St', -0.098411739), ('IL Chicago', -0.10255532), ('Pepperdine', -0.10580874), ('Arkansas St', -0.11253195), ('Utah Valley', -0.11374582), ('SF Austin', -0.11537191), ('ETSU', -0.11796781), ('MA Lowell', -0.11984846), ('Winthrop', -0.12117856), ('Holy Cross', -0.13692318), ('Chattanooga', -0.14150572), ('Abilene Chr', -0.14384183), ('Georgia St', -0.14841083), ('UC Irvine', -0.15455662), ('Grand Canyon', -0.15761863), ('Tennessee Tech', -0.16131456), ('New Orleans', -0.1636062), ('Northeastern', -0.16751853), ('Buffalo', -0.16975603), ('American Univ', -0.17330584), ('Appalachian St', -0.18080352), ('Northern Arizona', -0.18900275), ('North Texas', -0.19399533), ('Denver', -0.19830506), ('James Madison', -0.19856517), ('S Dakota St', -0.19988342), ('Duquesne', -0.20612793), ('NE Illinois', -0.20738401), ('East Carolina', -0.20858271), ('CS Northridge', -0.21203487), ('N Kentucky', -0.21526855), ('Loyola-Chicago', -0.21560827), ('Robert Morris', -0.22422537), ('Troy', -0.23533481), ('Marist', -0.23710981), ('IUPUI', -0.24763812), ('Portland', -0.25223321), ('Canisius', -0.25370687), ('Quinnipiac', -0.25829706), ('Samford', -0.25843933), ('South Dakota', -0.25893134), ('Rice', -0.25950846), ('Montana St', -0.26482469), ('Central Conn', -0.26651907), ('E Michigan', -0.27053881), ('UT Arlington', -0.27181241), ('UNC Asheville', -0.27263811), ('Wagner', -0.27343088), ('NE Omaha', -0.27759609), ('William & Mary', -0.27948701), ('TAM C. Christi', -0.28605717), ('Portland St', -0.28667349), ('CS Fullerton', -0.3032046), ('Northwestern LA', -0.31547192), ('UT San Antonio', -0.31820303), ('Lafayette', -0.31982851), ('Albany NY', -0.32124713), ('FL Gulf Coast', -0.32302672), ('Seattle', -0.32573068), ('Morehead St', -0.32693374), ('Hampton', -0.33069724), ('Yale', -0.33212322), ('E Kentucky', -0.3344692), ('North Dakota', -0.33493966), ('Maine', -0.34229615), ('McNeese St', -0.34665105), ('Long Island', -0.347175), ('Radford', -0.34950507), ('Monmouth NJ', -0.34975502), ('Cornell', -0.34999371), ('Idaho', -0.35694021), ('Wofford', -0.36410403), ('Loyola MD', -0.36618429), ('Stony Brook', -0.36666331), ('St Francis NY', -0.37026218), ('Lamar', -0.37080348), ('Cal Poly SLO', -0.37713552), ('Florida Intl', -0.38488531), ('Lehigh', -0.38894337), ('UNC Greensboro', -0.39558768), ('Loy Marymount', -0.40078044), ('E Washington', -0.40176713), ('Mercer', -0.40691268), ('Ga Southern', -0.40748182), ('Lipscomb', -0.40905133), ('C Michigan', -0.41676769), ('N Colorado', -0.41751325), ('Coastal Car', -0.41870728), (\"Mt St Mary's\", -0.42302981), ('Jacksonville', -0.4261685), (\"St Peter's\", -0.42746446), ('W Carolina', -0.43101501), ('Navy', -0.439706), ('SE Missouri St', -0.44876266), ('Fordham', -0.45023504), ('Brown', -0.45138645), ('Towson', -0.45609641), ('San Jose St', -0.45869479), ('Hartford', -0.45900965), ('Missouri KC', -0.46160898), ('N Illinois', -0.46161163), ('E Illinois', -0.4629977), ('S Carolina St', -0.4654038), ('ULM', -0.46717855), ('Liberty', -0.47415146), ('Elon', -0.47464579), ('Columbia', -0.4765397), ('Gardner Webb', -0.47739637), ('Youngstown St', -0.48146495), ('Texas St', -0.49410966), ('Furman', -0.49542579), ('Tennessee St', -0.49776763), ('FL Atlantic', -0.49932557), ('High Point', -0.49977541), ('F Dickinson', -0.50097978), ('SE Louisiana', -0.50465006), ('NC Central', -0.50592524), ('Colgate', -0.50701076), ('IPFW', -0.5107159), ('Norfolk St', -0.51330888), ('Coppin St', -0.51650649), ('Southern Utah', -0.52056587), ('Binghamton', -0.52343714), ('VMI', -0.55843037), ('SC Upstate', -0.56251121), ('Jackson St', -0.56931716), ('Alabama St', -0.57678938), ('Morris Brown', -0.58468127), ('UMBC', -0.59208041), ('W Illinois', -0.59797877), ('MS Valley St', -0.59999633), ('Jacksonville St', -0.60089034), ('Delaware St', -0.60208863), ('Charleston So', -0.60856831), ('CS Bakersfield', -0.61214226), ('Idaho St', -0.62327367), ('Sacred Heart', -0.62925577), ('Stetson', -0.63832885), ('Morgan St', -0.64690071), ('TX Southern', -0.67595744), ('Alabama A&M', -0.67885292), ('Southern Univ', -0.69344711), ('Bryant', -0.69485998), ('St Francis PA', -0.69683832), ('Nicholls St', -0.69859439), ('Campbell', -0.70074594), ('TN Martin', -0.70317042), ('UC Riverside', -0.72468054), ('UC Davis', -0.74661016), ('W Salem St', -0.74726504), ('Dartmouth', -0.74998295), ('New Hampshire', -0.76074272), ('Citadel', -0.77343619), ('Centenary', -0.78921437), ('Florida A&M', -0.79399133), ('Presbyterian', -0.79816842), ('Army', -0.80809617), ('Bethune-Cookman', -0.80864501), ('TX Pan American', -0.83145064), ('North Florida', -0.83167279), ('Alcorn St', -0.83351809), ('NC A&T', -0.83532095), ('Cent Arkansas', -0.84242243), ('Edwardsville', -0.87495369), ('CS Sacramento', -0.8831467), ('Houston Bap', -0.91808689), ('Savannah St', -0.9286164), ('Prairie View', -1.0091176), ('Chicago St', -1.0137236), ('NJIT', -1.022825), ('Grambling', -1.036553), ('Kennesaw', -1.0495776), ('Ark Pine Bluff', -1.0685354), ('Longwood', -1.0846686), ('Howard', -1.0894705), ('MD E Shore', -1.1500311)]\n"
     ]
    }
   ],
   "source": [
    "# rankings looks reasonable \n",
    "\n",
    "weights=model.layers[0].get_weights()\n",
    "    \n",
    "print(weights[0].shape)\n",
    "ranks=zip(teams['name'],map(lambda x:x[0],weights[0]))\n",
    "ranks=sorted(ranks,key=lambda x: x[1],reverse=True)\n",
    "print(ranks)"
   ]
  }
 ],
 "metadata": {
  "kernelspec": {
   "display_name": "Python 2",
   "language": "python",
   "name": "python2"
  },
  "language_info": {
   "codemirror_mode": {
    "name": "ipython",
    "version": 2
   },
   "file_extension": ".py",
   "mimetype": "text/x-python",
   "name": "python",
   "nbconvert_exporter": "python",
   "pygments_lexer": "ipython2",
   "version": "2.7.12"
  }
 },
 "nbformat": 4,
 "nbformat_minor": 0
}
